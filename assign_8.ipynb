{
 "cells": [
  {
   "cell_type": "code",
   "execution_count": 7,
   "id": "fdbc67b2-ffd0-4e9c-af45-aedb1153c205",
   "metadata": {},
   "outputs": [],
   "source": [
    "#qsn 1 solution:-\n",
    "\n",
    "def pas_check():\n",
    "    '''check the given password is valid or not'''\n",
    "    password = input(\"enter your password here:- \")\n",
    "    lowercase = 0\n",
    "    uppercase = 0\n",
    "    digit = 0\n",
    "    special_char = 0\n",
    "    total_count = 0\n",
    "    for i in password:\n",
    "        if i.islower():\n",
    "            lowercase = lowercase + 1\n",
    "            total_count = total_count + 1\n",
    "        elif i.isupper():\n",
    "            uppercase = uppercase + 1\n",
    "            total_count = total_count + 1\n",
    "        elif i.isdigit():\n",
    "            digit = digit + 1\n",
    "            total_count = total_count + 1\n",
    "        else:\n",
    "            special_char = special_char + 1\n",
    "            total_count = total_count + 1\n",
    "            \n",
    "    if lowercase >= 2 and uppercase >= 2 and digit >= 1 and special_char >= 3 and total_count == 10:\n",
    "        return \"valid password\"\n",
    "    else:\n",
    "        return \"invalid password\""
   ]
  },
  {
   "cell_type": "code",
   "execution_count": 13,
   "id": "bc5af0c7-0953-4f1c-a45b-9fa1f82e4e4a",
   "metadata": {},
   "outputs": [
    {
     "name": "stdin",
     "output_type": "stream",
     "text": [
      "enter your password here:-  SuMit%23&*\n"
     ]
    },
    {
     "data": {
      "text/plain": [
       "'valid password'"
      ]
     },
     "execution_count": 13,
     "metadata": {},
     "output_type": "execute_result"
    }
   ],
   "source": [
    "pas_check()"
   ]
  },
  {
   "cell_type": "code",
   "execution_count": 81,
   "id": "3fa6dad7-5aa6-42a4-89ed-a0eb98f0eb4c",
   "metadata": {},
   "outputs": [],
   "source": [
    "#qsn 2 solution:-\n",
    "#Check if the string starts with a particular letter\n",
    "b = [\"bhai kaisa hai\"]\n",
    "s = [\"hare krishna hare krishna krishna krishna hare hare\"]\n",
    "def find(n):\n",
    "    '''find if string start with \"h\" or not'''\n",
    "    for i in n:\n",
    "        if i[0] == \"h\":\n",
    "            return \"yes it starts with h\"\n",
    "        \n",
    "        elif i[0] != \"h\":\n",
    "            return \"try another string starting with s\""
   ]
  },
  {
   "cell_type": "code",
   "execution_count": 82,
   "id": "82fc394b-84be-448e-9c46-d979ee75f45f",
   "metadata": {},
   "outputs": [
    {
     "data": {
      "text/plain": [
       "['yes it starts with h']"
      ]
     },
     "execution_count": 82,
     "metadata": {},
     "output_type": "execute_result"
    }
   ],
   "source": [
    "list(map(find, s))"
   ]
  },
  {
   "cell_type": "code",
   "execution_count": 83,
   "id": "5f9abfbf-6d67-4bab-9aed-d1c385aa6d86",
   "metadata": {},
   "outputs": [
    {
     "data": {
      "text/plain": [
       "['try another string starting with s']"
      ]
     },
     "execution_count": 83,
     "metadata": {},
     "output_type": "execute_result"
    }
   ],
   "source": [
    "list(map(find, b))"
   ]
  },
  {
   "cell_type": "code",
   "execution_count": 258,
   "id": "1da2ef86-1fa8-45c2-82c3-ec7109cf1702",
   "metadata": {},
   "outputs": [],
   "source": [
    "#Check if the string is numeric:-\n",
    "l1 = \"2\"\n",
    "l2 = \"s\"\n",
    "def check(n):\n",
    "    '''check whether the string is numeric or not'''\n",
    "        if n.isnumeric():\n",
    "            return \"yes it is numeric\"\n",
    "        else:\n",
    "            return \"not numeric\"\n",
    "            "
   ]
  },
  {
   "cell_type": "code",
   "execution_count": 259,
   "id": "b8213abd-cdc5-4421-b927-81385891f084",
   "metadata": {},
   "outputs": [
    {
     "data": {
      "text/plain": [
       "['yes it is numeric']"
      ]
     },
     "execution_count": 259,
     "metadata": {},
     "output_type": "execute_result"
    }
   ],
   "source": [
    "list(map(check, l1))"
   ]
  },
  {
   "cell_type": "code",
   "execution_count": 260,
   "id": "0931f671-7041-49e7-8713-7023c6507716",
   "metadata": {},
   "outputs": [
    {
     "data": {
      "text/plain": [
       "['not numeric']"
      ]
     },
     "execution_count": 260,
     "metadata": {},
     "output_type": "execute_result"
    }
   ],
   "source": [
    "list(map(check, l2))"
   ]
  },
  {
   "cell_type": "code",
   "execution_count": 285,
   "id": "b7438392-a170-40ee-8a42-cf84e2eb2f4f",
   "metadata": {},
   "outputs": [],
   "source": [
    "#Sort a list of tuples having fruit names and their quantity:- \n",
    "\n",
    "s = [(\"mango\",99),(\"orange\",80), (\"grapes\", 1000)]\n",
    "s.sort(key = lambda x : x[1])"
   ]
  },
  {
   "cell_type": "code",
   "execution_count": 286,
   "id": "f51d2719-9c6e-4218-aa91-6d4251757c7e",
   "metadata": {},
   "outputs": [
    {
     "data": {
      "text/plain": [
       "[('orange', 80), ('mango', 99), ('grapes', 1000)]"
      ]
     },
     "execution_count": 286,
     "metadata": {},
     "output_type": "execute_result"
    }
   ],
   "source": [
    "s"
   ]
  },
  {
   "cell_type": "code",
   "execution_count": 287,
   "id": "65e6d839-bc59-4c01-b4ad-f6f5bf2ea984",
   "metadata": {},
   "outputs": [
    {
     "data": {
      "text/plain": [
       "[1, 4, 9, 16, 25, 36, 49, 64, 81, 100]"
      ]
     },
     "execution_count": 287,
     "metadata": {},
     "output_type": "execute_result"
    }
   ],
   "source": [
    "#Find the squares of numbers from 1 to 10:-\n",
    "[i**2 for i in range(1,11)]"
   ]
  },
  {
   "cell_type": "code",
   "execution_count": 292,
   "id": "31006204-3a0a-4956-9654-34a8d77a4d7a",
   "metadata": {},
   "outputs": [
    {
     "data": {
      "text/plain": [
       "[1.0,\n",
       " 1.2599210498948732,\n",
       " 1.4422495703074083,\n",
       " 1.5874010519681994,\n",
       " 1.7099759466766968,\n",
       " 1.8171205928321397,\n",
       " 1.912931182772389,\n",
       " 2.0,\n",
       " 2.080083823051904,\n",
       " 2.154434690031884]"
      ]
     },
     "execution_count": 292,
     "metadata": {},
     "output_type": "execute_result"
    }
   ],
   "source": [
    "#Find the cube root of numbers from 1 to 10:-\n",
    "[i**(1/3) for i in range(1,11)]"
   ]
  },
  {
   "cell_type": "code",
   "execution_count": 298,
   "id": "3a7cf9ca-fe50-49ea-8db1-a1bc3aed7125",
   "metadata": {},
   "outputs": [
    {
     "name": "stdin",
     "output_type": "stream",
     "text": [
      "enter your number:-  79\n"
     ]
    },
    {
     "data": {
      "text/plain": [
       "['is odd']"
      ]
     },
     "execution_count": 298,
     "metadata": {},
     "output_type": "execute_result"
    }
   ],
   "source": [
    "#Check if a given number is even:-\n",
    "x = int(input(\"enter your number:- \"))\n",
    "[\"yes is even\" if x % 2 == 0 else \"is odd\"]"
   ]
  },
  {
   "cell_type": "code",
   "execution_count": 306,
   "id": "c0944cbd-2f5b-4870-9df8-2ac73f9cec9b",
   "metadata": {},
   "outputs": [
    {
     "data": {
      "text/plain": [
       "[1, 3, 5, 7, 9]"
      ]
     },
     "execution_count": 306,
     "metadata": {},
     "output_type": "execute_result"
    }
   ],
   "source": [
    "#Filter odd numbers from the given list:-\n",
    "l2 = [1,2,3,4,5,6,7,8,9,10]\n",
    "[i for i in l2 if i%2 != 0]"
   ]
  },
  {
   "cell_type": "code",
   "execution_count": 376,
   "id": "89f9bb76-879e-49a3-bd45-08be1a140165",
   "metadata": {},
   "outputs": [],
   "source": [
    "#Sort a list of integers into positive and negative integers lists:-\n",
    "t1 = [1,2,3,4,5,6,-1,-2,-3,-4,-5,0]\n",
    "def letsort(n):\n",
    "    '''seprate positive and negative intigers lists'''\n",
    "    l1 = []\n",
    "    l2 = []\n",
    "    for i in n:\n",
    "        if i<0:\n",
    "            l1.append(i)\n",
    "        else:\n",
    "            l2.append(i)\n",
    "    return l1 , l2         "
   ]
  },
  {
   "cell_type": "code",
   "execution_count": 377,
   "id": "f3e2210f-e602-451c-8d19-00bee2cdf691",
   "metadata": {},
   "outputs": [
    {
     "data": {
      "text/plain": [
       "([-1, -2, -3, -4, -5], [1, 2, 3, 4, 5, 6, 0])"
      ]
     },
     "execution_count": 377,
     "metadata": {},
     "output_type": "execute_result"
    }
   ],
   "source": [
    "letsort(t1)"
   ]
  },
  {
   "cell_type": "code",
   "execution_count": 378,
   "id": "2b5b170a-0f27-4ce0-96f2-1165e4eb9ccc",
   "metadata": {},
   "outputs": [
    {
     "data": {
      "text/plain": [
       "[[-1, -2, -3, -4, -5], [1, 2, 3, 4, 5, 6, 0]]"
      ]
     },
     "execution_count": 378,
     "metadata": {},
     "output_type": "execute_result"
    }
   ],
   "source": [
    "[i for i in letsort(t1)]"
   ]
  },
  {
   "cell_type": "code",
   "execution_count": null,
   "id": "74a1369c-0a7d-4318-8eeb-e862589ffb3d",
   "metadata": {},
   "outputs": [],
   "source": []
  }
 ],
 "metadata": {
  "kernelspec": {
   "display_name": "Python 3 (ipykernel)",
   "language": "python",
   "name": "python3"
  },
  "language_info": {
   "codemirror_mode": {
    "name": "ipython",
    "version": 3
   },
   "file_extension": ".py",
   "mimetype": "text/x-python",
   "name": "python",
   "nbconvert_exporter": "python",
   "pygments_lexer": "ipython3",
   "version": "3.10.8"
  }
 },
 "nbformat": 4,
 "nbformat_minor": 5
}
